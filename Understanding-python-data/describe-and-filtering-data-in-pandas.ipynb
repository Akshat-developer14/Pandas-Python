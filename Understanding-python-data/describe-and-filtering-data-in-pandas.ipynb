{
 "cells": [
  {
   "cell_type": "markdown",
   "metadata": {},
   "source": [
    "# Understanding how to describe data using pandas"
   ]
  },
  {
   "cell_type": "code",
   "execution_count": 1,
   "metadata": {},
   "outputs": [],
   "source": [
    "import pandas as pd"
   ]
  },
  {
   "cell_type": "code",
   "execution_count": 2,
   "metadata": {},
   "outputs": [],
   "source": [
    "data = {\n",
    "    \"Name\": [\"Ram\", \"Shyam\", \"Ghansyam\", \"Kam\", \"Aaram\", \"Sharam\", \"Gharam\"],\n",
    "    \"Age\": [12, 13, 14, 15, 16, 17, 18],\n",
    "    \"City\": [\"Delhi\", \"Mumbai\", \"Kolkata\", \"Chennai\", \"Bangalore\", \"Hyderabad\", \"Pune\"],\n",
    "    \"Salary\": [1000, 2000, 3000, 4000, 5000, 6000, 7000],\n",
    "    \"Performance Score\": [56, 85, 95, 62, 75, 88, 90],\n",
    "}"
   ]
  },
  {
   "cell_type": "code",
   "execution_count": 3,
   "metadata": {},
   "outputs": [
    {
     "name": "stdout",
     "output_type": "stream",
     "text": [
      "       Name  Age       City  Salary  Performance Score\n",
      "0       Ram   12      Delhi    1000                 56\n",
      "1     Shyam   13     Mumbai    2000                 85\n",
      "2  Ghansyam   14    Kolkata    3000                 95\n",
      "3       Kam   15    Chennai    4000                 62\n",
      "4     Aaram   16  Bangalore    5000                 75\n",
      "5    Sharam   17  Hyderabad    6000                 88\n",
      "6    Gharam   18       Pune    7000                 90\n"
     ]
    }
   ],
   "source": [
    "df = pd.DataFrame(data)\n",
    "print(df)"
   ]
  },
  {
   "cell_type": "code",
   "execution_count": 4,
   "metadata": {},
   "outputs": [
    {
     "name": "stdout",
     "output_type": "stream",
     "text": [
      "*****    Displaying the description of data  *****\n",
      "             Age       Salary  Performance Score\n",
      "count   7.000000     7.000000           7.000000\n",
      "mean   15.000000  4000.000000          78.714286\n",
      "std     2.160247  2160.246899          14.874075\n",
      "min    12.000000  1000.000000          56.000000\n",
      "25%    13.500000  2500.000000          68.500000\n",
      "50%    15.000000  4000.000000          85.000000\n",
      "75%    16.500000  5500.000000          89.000000\n",
      "max    18.000000  7000.000000          95.000000\n"
     ]
    }
   ],
   "source": [
    "print(\"*****    Displaying the description of data  *****\")\n",
    "print(df.describe())"
   ]
  },
  {
   "cell_type": "markdown",
   "metadata": {},
   "source": [
    "### Knowing more in detail about data"
   ]
  },
  {
   "cell_type": "code",
   "execution_count": 5,
   "metadata": {},
   "outputs": [
    {
     "name": "stdout",
     "output_type": "stream",
     "text": [
      "Shape: (7, 5)\n",
      "Column Names: Index(['Name', 'Age', 'City', 'Salary', 'Performance Score'], dtype='object')\n"
     ]
    }
   ],
   "source": [
    "print(f'Shape: {df.shape}')\n",
    "print(f'Column Names: {df.columns}')"
   ]
  },
  {
   "cell_type": "markdown",
   "metadata": {},
   "source": [
    "### Now we understand how can we \n",
    "-   Select specific column\n",
    "-   Filter rows\n",
    "-   Combine multiple conditions"
   ]
  },
  {
   "cell_type": "markdown",
   "metadata": {},
   "source": [
    "### How to single column from a dataframe"
   ]
  },
  {
   "cell_type": "code",
   "execution_count": 6,
   "metadata": {},
   "outputs": [
    {
     "name": "stdout",
     "output_type": "stream",
     "text": [
      "Names (Single column return series)\n",
      "0         Ram\n",
      "1       Shyam\n",
      "2    Ghansyam\n",
      "3         Kam\n",
      "4       Aaram\n",
      "5      Sharam\n",
      "6      Gharam\n",
      "Name: Name, dtype: object\n"
     ]
    }
   ],
   "source": [
    "print('Names (Single column return series)')\n",
    "print(df['Name'])"
   ]
  },
  {
   "cell_type": "markdown",
   "metadata": {},
   "source": [
    "### How to select multiple columns in pandas "
   ]
  },
  {
   "cell_type": "code",
   "execution_count": 7,
   "metadata": {},
   "outputs": [
    {
     "name": "stdout",
     "output_type": "stream",
     "text": [
      "Subset with name and salary\n",
      "       Name  Salary\n",
      "0       Ram    1000\n",
      "1     Shyam    2000\n",
      "2  Ghansyam    3000\n",
      "3       Kam    4000\n",
      "4     Aaram    5000\n",
      "5    Sharam    6000\n",
      "6    Gharam    7000\n"
     ]
    }
   ],
   "source": [
    "subset = df[['Name', 'Salary']]\n",
    "print('Subset with name and salary')\n",
    "print(subset)"
   ]
  },
  {
   "cell_type": "markdown",
   "metadata": {},
   "source": [
    "### How to filter rows"
   ]
  },
  {
   "cell_type": "markdown",
   "metadata": {},
   "source": [
    "#### On single condition"
   ]
  },
  {
   "cell_type": "code",
   "execution_count": 8,
   "metadata": {},
   "outputs": [
    {
     "name": "stdout",
     "output_type": "stream",
     "text": [
      "Employees with salary more than 5000\n",
      "     Name  Age       City  Salary  Performance Score\n",
      "5  Sharam   17  Hyderabad    6000                 88\n",
      "6  Gharam   18       Pune    7000                 90\n"
     ]
    }
   ],
   "source": [
    "high_salary = df[df['Salary'] > 5000]\n",
    "print('Employees with salary more than 5000')\n",
    "print(high_salary)"
   ]
  },
  {
   "cell_type": "markdown",
   "metadata": {},
   "source": [
    "#### On multiple conditions"
   ]
  },
  {
   "cell_type": "markdown",
   "metadata": {},
   "source": [
    "-   Using and ( & ) condition in pandas filtering"
   ]
  },
  {
   "cell_type": "code",
   "execution_count": 9,
   "metadata": {},
   "outputs": [
    {
     "name": "stdout",
     "output_type": "stream",
     "text": [
      "Employees with salary more than 3000 and performance score more than 70\n",
      "     Name  Age       City  Salary  Performance Score\n",
      "4   Aaram   16  Bangalore    5000                 75\n",
      "5  Sharam   17  Hyderabad    6000                 88\n",
      "6  Gharam   18       Pune    7000                 90\n"
     ]
    }
   ],
   "source": [
    "multiple_conditions_and = df[(df['Salary'] > 3000) & (df['Performance Score'] > 70)]\n",
    "print('Employees with salary more than 3000 and performance score more than 70')\n",
    "print(multiple_conditions_and)"
   ]
  },
  {
   "cell_type": "markdown",
   "metadata": {},
   "source": [
    "-   Using or (  |  ) condition in pandas"
   ]
  },
  {
   "cell_type": "code",
   "execution_count": 10,
   "metadata": {},
   "outputs": [
    {
     "name": "stdout",
     "output_type": "stream",
     "text": [
      "Employees with age more than 15 or performance score more than 75\n",
      "       Name  Age       City  Salary  Performance Score\n",
      "1     Shyam   13     Mumbai    2000                 85\n",
      "2  Ghansyam   14    Kolkata    3000                 95\n",
      "4     Aaram   16  Bangalore    5000                 75\n",
      "5    Sharam   17  Hyderabad    6000                 88\n",
      "6    Gharam   18       Pune    7000                 90\n"
     ]
    }
   ],
   "source": [
    "multiple_conditions_or = df[(df['Age'] > 15) | (df['Performance Score'] > 75)]\n",
    "print('Employees with age more than 15 or performance score more than 75')\n",
    "print(multiple_conditions_or)"
   ]
  }
 ],
 "metadata": {
  "kernelspec": {
   "display_name": "env",
   "language": "python",
   "name": "python3"
  },
  "language_info": {
   "codemirror_mode": {
    "name": "ipython",
    "version": 3
   },
   "file_extension": ".py",
   "mimetype": "text/x-python",
   "name": "python",
   "nbconvert_exporter": "python",
   "pygments_lexer": "ipython3",
   "version": "3.12.6"
  }
 },
 "nbformat": 4,
 "nbformat_minor": 2
}
