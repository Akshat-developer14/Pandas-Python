{
 "cells": [
  {
   "cell_type": "markdown",
   "metadata": {},
   "source": [
    "# Understanding how to describe data using pandas"
   ]
  },
  {
   "cell_type": "code",
   "execution_count": 1,
   "metadata": {},
   "outputs": [],
   "source": [
    "import pandas as pd"
   ]
  },
  {
   "cell_type": "code",
   "execution_count": 5,
   "metadata": {},
   "outputs": [],
   "source": [
    "data = {\n",
    "    \"Name\": [\"Ram\", \"Shyam\", \"Ghansyam\", \"Kam\", \"Aaram\", \"Sharam\", \"Gharam\"],\n",
    "    \"Age\": [12, 13, 14, 15, 16, 17, 18],\n",
    "    \"City\": [\"Delhi\", \"Mumbai\", \"Kolkata\", \"Chennai\", \"Bangalore\", \"Hyderabad\", \"Pune\"],\n",
    "    \"Salary\": [1000, 2000, 3000, 4000, 5000, 6000, 7000],\n",
    "    \"Performance Score\": [56, 85, 95, 62, 75, 88, 90],\n",
    "}"
   ]
  },
  {
   "cell_type": "code",
   "execution_count": 6,
   "metadata": {},
   "outputs": [
    {
     "name": "stdout",
     "output_type": "stream",
     "text": [
      "       Name  Age       City  Salary  Performance Score\n",
      "0       Ram   12      Delhi    1000                 56\n",
      "1     Shyam   13     Mumbai    2000                 85\n",
      "2  Ghansyam   14    Kolkata    3000                 95\n",
      "3       Kam   15    Chennai    4000                 62\n",
      "4     Aaram   16  Bangalore    5000                 75\n",
      "5    Sharam   17  Hyderabad    6000                 88\n",
      "6    Gharam   18       Pune    7000                 90\n"
     ]
    }
   ],
   "source": [
    "df = pd.DataFrame(data)\n",
    "print(df)"
   ]
  },
  {
   "cell_type": "code",
   "execution_count": 7,
   "metadata": {},
   "outputs": [
    {
     "name": "stdout",
     "output_type": "stream",
     "text": [
      "*****    Displaying the description of data  *****\n",
      "             Age       Salary  Performance Score\n",
      "count   7.000000     7.000000           7.000000\n",
      "mean   15.000000  4000.000000          78.714286\n",
      "std     2.160247  2160.246899          14.874075\n",
      "min    12.000000  1000.000000          56.000000\n",
      "25%    13.500000  2500.000000          68.500000\n",
      "50%    15.000000  4000.000000          85.000000\n",
      "75%    16.500000  5500.000000          89.000000\n",
      "max    18.000000  7000.000000          95.000000\n"
     ]
    }
   ],
   "source": [
    "print(\"*****    Displaying the description of data  *****\")\n",
    "print(df.describe())"
   ]
  }
 ],
 "metadata": {
  "kernelspec": {
   "display_name": "env",
   "language": "python",
   "name": "python3"
  },
  "language_info": {
   "codemirror_mode": {
    "name": "ipython",
    "version": 3
   },
   "file_extension": ".py",
   "mimetype": "text/x-python",
   "name": "python",
   "nbconvert_exporter": "python",
   "pygments_lexer": "ipython3",
   "version": "3.12.6"
  }
 },
 "nbformat": 4,
 "nbformat_minor": 2
}
