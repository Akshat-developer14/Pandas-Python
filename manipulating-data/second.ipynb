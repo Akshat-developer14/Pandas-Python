{
 "cells": [
  {
   "cell_type": "markdown",
   "id": "335b874a",
   "metadata": {},
   "source": [
    "## How to update values"
   ]
  },
  {
   "cell_type": "code",
   "execution_count": 9,
   "id": "0d1c595d",
   "metadata": {},
   "outputs": [],
   "source": [
    "import pandas as pd"
   ]
  },
  {
   "cell_type": "code",
   "execution_count": 10,
   "id": "92b8446e",
   "metadata": {},
   "outputs": [],
   "source": [
    "data = {\n",
    "    \"Name\": [\"Ram\", \"Shyam\", \"Ghansyam\", \"Kam\", \"Aaram\", \"Sharam\", \"Gharam\"],\n",
    "    \"Age\": [12, 13, 14, 15, 16, 17, 18],\n",
    "    \"City\": [\"Delhi\", \"Mumbai\", \"Kolkata\", \"Chennai\", \"Bangalore\", \"Hyderabad\", \"Pune\"],\n",
    "    \"Salary\": [1000, 2000, 3000, 4000, 5000, 6000, 7000],\n",
    "    \"Performance Score\": [56, 85, 95, 62, 75, 88, 90],\n",
    "}"
   ]
  },
  {
   "cell_type": "code",
   "execution_count": 11,
   "id": "c2947768",
   "metadata": {},
   "outputs": [
    {
     "name": "stdout",
     "output_type": "stream",
     "text": [
      "       Name  Age       City  Salary  Performance Score\n",
      "0       Ram   12      Delhi    1000                 56\n",
      "1     Shyam   13     Mumbai    2000                 85\n",
      "2  Ghansyam   14    Kolkata    3000                 95\n",
      "3       Kam   15    Chennai    4000                 62\n",
      "4     Aaram   16  Bangalore    5000                 75\n",
      "5    Sharam   17  Hyderabad    6000                 88\n",
      "6    Gharam   18       Pune    7000                 90\n"
     ]
    }
   ],
   "source": [
    "df = pd.DataFrame(data)\n",
    "print(df)"
   ]
  },
  {
   "cell_type": "markdown",
   "id": "b619cd49",
   "metadata": {},
   "source": [
    "### Update any value\n",
    "-   df.loc[row_index, 'Column_Name'] = value"
   ]
  },
  {
   "cell_type": "code",
   "execution_count": 12,
   "id": "fb0eb670",
   "metadata": {},
   "outputs": [
    {
     "name": "stdout",
     "output_type": "stream",
     "text": [
      "       Name  Age       City  Salary  Performance Score\n",
      "0       Ram   12      Delhi    1000                 56\n",
      "1     Shyam   13     Mumbai    2500                 85\n",
      "2  Ghansyam   14    Kolkata    3000                 95\n",
      "3       Kam   15    Chennai    4000                 62\n",
      "4     Aaram   16  Bangalore    5000                 75\n",
      "5    Sharam   17  Hyderabad    6000                 88\n",
      "6    Gharam   18       Pune    7000                 90\n"
     ]
    }
   ],
   "source": [
    "df.loc[1, 'Salary'] = 2500\n",
    "print(df)"
   ]
  },
  {
   "cell_type": "code",
   "execution_count": 13,
   "id": "fb9ec92e",
   "metadata": {},
   "outputs": [
    {
     "name": "stdout",
     "output_type": "stream",
     "text": [
      "       Name  Age       City  Salary  Performance Score\n",
      "0       Ram   12      Delhi  1100.0                 56\n",
      "1     Shyam   13     Mumbai  2750.0                 85\n",
      "2  Ghansyam   14    Kolkata  3300.0                 95\n",
      "3       Kam   15    Chennai  4400.0                 62\n",
      "4     Aaram   16  Bangalore  5500.0                 75\n",
      "5    Sharam   17  Hyderabad  6600.0                 88\n",
      "6    Gharam   18       Pune  7700.0                 90\n"
     ]
    }
   ],
   "source": [
    "df['Salary'] = df['Salary'] * 1.1\n",
    "print(df)"
   ]
  },
  {
   "cell_type": "markdown",
   "id": "21c8e49b",
   "metadata": {},
   "source": [
    "## How to remove any column if no longer needed\n",
    "\n",
    "-   df.drop('column_name', axis=1, inplace=True)\n",
    "-   df.drop(['column_name_1', 'column_name_2'], axis=1, inplace=True)\n",
    "\n",
    "-   inplace = True means the changes will be made in the same dataframe\n",
    "-   inplace = False means the changes will be made in a new dataframe\n",
    "\n",
    "-   axis = 1 means column\n",
    "-   axis = 0 means row\n",
    "\n",
    "-   You can pass one column name or a list of column names to the drop() function."
   ]
  },
  {
   "cell_type": "code",
   "execution_count": 14,
   "id": "5e0ae0fe",
   "metadata": {},
   "outputs": [
    {
     "name": "stdout",
     "output_type": "stream",
     "text": [
      "       Name  Age       City  Salary\n",
      "0       Ram   12      Delhi  1100.0\n",
      "1     Shyam   13     Mumbai  2750.0\n",
      "2  Ghansyam   14    Kolkata  3300.0\n",
      "3       Kam   15    Chennai  4400.0\n",
      "4     Aaram   16  Bangalore  5500.0\n",
      "5    Sharam   17  Hyderabad  6600.0\n",
      "6    Gharam   18       Pune  7700.0\n"
     ]
    }
   ],
   "source": [
    "df.drop('Performance Score', axis=1, inplace=True)\n",
    "print(df)"
   ]
  },
  {
   "cell_type": "code",
   "execution_count": 15,
   "id": "78b70ab9",
   "metadata": {},
   "outputs": [
    {
     "name": "stdout",
     "output_type": "stream",
     "text": [
      "       Name  Age       City  Salary\n",
      "2  Ghansyam   14    Kolkata  3300.0\n",
      "3       Kam   15    Chennai  4400.0\n",
      "4     Aaram   16  Bangalore  5500.0\n",
      "5    Sharam   17  Hyderabad  6600.0\n",
      "6    Gharam   18       Pune  7700.0\n"
     ]
    }
   ],
   "source": [
    "df.drop([0, 1], axis=0, inplace=True)\n",
    "print(df)"
   ]
  }
 ],
 "metadata": {
  "kernelspec": {
   "display_name": "env",
   "language": "python",
   "name": "python3"
  },
  "language_info": {
   "codemirror_mode": {
    "name": "ipython",
    "version": 3
   },
   "file_extension": ".py",
   "mimetype": "text/x-python",
   "name": "python",
   "nbconvert_exporter": "python",
   "pygments_lexer": "ipython3",
   "version": "3.12.6"
  }
 },
 "nbformat": 4,
 "nbformat_minor": 5
}
