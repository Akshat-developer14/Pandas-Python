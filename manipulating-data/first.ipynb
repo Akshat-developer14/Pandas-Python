{
 "cells": [
  {
   "cell_type": "markdown",
   "id": "c07fe9a6",
   "metadata": {},
   "source": [
    "# Manipulating Data in Python"
   ]
  },
  {
   "cell_type": "code",
   "execution_count": 9,
   "id": "10f0ca89",
   "metadata": {},
   "outputs": [],
   "source": [
    "import pandas as pd"
   ]
  },
  {
   "cell_type": "code",
   "execution_count": 10,
   "id": "c8f340d3",
   "metadata": {},
   "outputs": [],
   "source": [
    "data = {\n",
    "    \"Name\": [\"Ram\", \"Shyam\", \"Ghansyam\", \"Kam\", \"Aaram\", \"Sharam\", \"Gharam\"],\n",
    "    \"Age\": [12, 13, 14, 15, 16, 17, 18],\n",
    "    \"City\": [\"Delhi\", \"Mumbai\", \"Kolkata\", \"Chennai\", \"Bangalore\", \"Hyderabad\", \"Pune\"],\n",
    "    \"Salary\": [1000, 2000, 3000, 4000, 5000, 6000, 7000],\n",
    "    \"Performance Score\": [56, 85, 95, 62, 75, 88, 90],\n",
    "}"
   ]
  },
  {
   "cell_type": "code",
   "execution_count": 11,
   "id": "b016c4db",
   "metadata": {},
   "outputs": [
    {
     "name": "stdout",
     "output_type": "stream",
     "text": [
      "       Name  Age       City  Salary  Performance Score\n",
      "0       Ram   12      Delhi    1000                 56\n",
      "1     Shyam   13     Mumbai    2000                 85\n",
      "2  Ghansyam   14    Kolkata    3000                 95\n",
      "3       Kam   15    Chennai    4000                 62\n",
      "4     Aaram   16  Bangalore    5000                 75\n",
      "5    Sharam   17  Hyderabad    6000                 88\n",
      "6    Gharam   18       Pune    7000                 90\n"
     ]
    }
   ],
   "source": [
    "df = pd.DataFrame(data)\n",
    "print(df)"
   ]
  },
  {
   "cell_type": "markdown",
   "id": "e79b534c",
   "metadata": {},
   "source": [
    "### Add new column to data"
   ]
  },
  {
   "cell_type": "code",
   "execution_count": 12,
   "id": "9f9554d8",
   "metadata": {},
   "outputs": [
    {
     "name": "stdout",
     "output_type": "stream",
     "text": [
      "       Name  Age       City  Salary  Performance Score  Bonus\n",
      "0       Ram   12      Delhi    1000                 56  100.0\n",
      "1     Shyam   13     Mumbai    2000                 85  200.0\n",
      "2  Ghansyam   14    Kolkata    3000                 95  300.0\n",
      "3       Kam   15    Chennai    4000                 62  400.0\n",
      "4     Aaram   16  Bangalore    5000                 75  500.0\n",
      "5    Sharam   17  Hyderabad    6000                 88  600.0\n",
      "6    Gharam   18       Pune    7000                 90  700.0\n"
     ]
    }
   ],
   "source": [
    "df[\"Bonus\"] = df[\"Salary\"] * 0.1\n",
    "print(df)"
   ]
  },
  {
   "cell_type": "markdown",
   "id": "494a330e",
   "metadata": {},
   "source": [
    "### Another way of adding a column (also used when want to add to a specific location)\n",
    "\n",
    "-   using insert()\n",
    "-   can tell the location of column\n",
    "-   df.insert(location, \"column_name\", some_data, allow_duplicates = False)"
   ]
  },
  {
   "cell_type": "code",
   "execution_count": 13,
   "id": "26259085",
   "metadata": {},
   "outputs": [
    {
     "name": "stdout",
     "output_type": "stream",
     "text": [
      "       Name  Age       City  Bonus_2  Salary  Performance Score  Bonus\n",
      "0       Ram   12      Delhi    100.0    1000                 56  100.0\n",
      "1     Shyam   13     Mumbai    200.0    2000                 85  200.0\n",
      "2  Ghansyam   14    Kolkata    300.0    3000                 95  300.0\n",
      "3       Kam   15    Chennai    400.0    4000                 62  400.0\n",
      "4     Aaram   16  Bangalore    500.0    5000                 75  500.0\n",
      "5    Sharam   17  Hyderabad    600.0    6000                 88  600.0\n",
      "6    Gharam   18       Pune    700.0    7000                 90  700.0\n"
     ]
    }
   ],
   "source": [
    "df.insert(3, \"Bonus_2\", df[\"Salary\"] * 0.1)\n",
    "print(df)"
   ]
  }
 ],
 "metadata": {
  "kernelspec": {
   "display_name": "env",
   "language": "python",
   "name": "python3"
  },
  "language_info": {
   "codemirror_mode": {
    "name": "ipython",
    "version": 3
   },
   "file_extension": ".py",
   "mimetype": "text/x-python",
   "name": "python",
   "nbconvert_exporter": "python",
   "pygments_lexer": "ipython3",
   "version": "3.12.6"
  }
 },
 "nbformat": 4,
 "nbformat_minor": 5
}
