{
 "cells": [
  {
   "cell_type": "markdown",
   "id": "da0a8899",
   "metadata": {},
   "source": [
    "# Sorting data"
   ]
  },
  {
   "cell_type": "code",
   "execution_count": 1,
   "id": "6150bb77",
   "metadata": {},
   "outputs": [],
   "source": [
    "import pandas as pd"
   ]
  },
  {
   "cell_type": "code",
   "execution_count": 3,
   "id": "09ab75b1",
   "metadata": {},
   "outputs": [
    {
     "name": "stdout",
     "output_type": "stream",
     "text": [
      "       Name  Age       City  Salary  Performance Score\n",
      "0       Ram   12      Delhi    1000                 56\n",
      "1    Shayam   13     Mumbai    2000                 85\n",
      "2  Ghansyam   14    Kolkata    3000                 95\n",
      "3       Kam   20      Noida    4000                 62\n",
      "4     Aaram   16  Bangalore    5000                 75\n",
      "5    Sharam   11  Hyderabad    6000                 88\n",
      "6    Gharam   15       Pune    7000                 90\n"
     ]
    }
   ],
   "source": [
    "data = {\n",
    "    \"Name\": [\"Ram\", \"Shayam\", \"Ghansyam\", \"Kam\", \"Aaram\", \"Sharam\", \"Gharam\"],\n",
    "    \"Age\": [12, 13, 14, 20, 16, 11, 15],\n",
    "    \"City\": [\"Delhi\", \"Mumbai\", \"Kolkata\", \"Noida\", \"Bangalore\", \"Hyderabad\", \"Pune\"],\n",
    "    \"Salary\": [1000, 2000, 3000, 4000, 5000, 6000, 7000],\n",
    "    \"Performance Score\": [56, 85, 95, 62, 75, 88, 90],\n",
    "}\n",
    "\n",
    "df = pd.DataFrame(data)\n",
    "print(df)"
   ]
  },
  {
   "cell_type": "markdown",
   "id": "68997262",
   "metadata": {},
   "source": [
    "-   df.sort_values(by='column_name', ascending=True/False, inplace=True)"
   ]
  },
  {
   "cell_type": "code",
   "execution_count": 5,
   "id": "786f04bd",
   "metadata": {},
   "outputs": [
    {
     "data": {
      "text/html": [
       "<div>\n",
       "<style scoped>\n",
       "    .dataframe tbody tr th:only-of-type {\n",
       "        vertical-align: middle;\n",
       "    }\n",
       "\n",
       "    .dataframe tbody tr th {\n",
       "        vertical-align: top;\n",
       "    }\n",
       "\n",
       "    .dataframe thead th {\n",
       "        text-align: right;\n",
       "    }\n",
       "</style>\n",
       "<table border=\"1\" class=\"dataframe\">\n",
       "  <thead>\n",
       "    <tr style=\"text-align: right;\">\n",
       "      <th></th>\n",
       "      <th>Name</th>\n",
       "      <th>Age</th>\n",
       "      <th>City</th>\n",
       "      <th>Salary</th>\n",
       "      <th>Performance Score</th>\n",
       "    </tr>\n",
       "  </thead>\n",
       "  <tbody>\n",
       "    <tr>\n",
       "      <th>3</th>\n",
       "      <td>Kam</td>\n",
       "      <td>20</td>\n",
       "      <td>Noida</td>\n",
       "      <td>4000</td>\n",
       "      <td>62</td>\n",
       "    </tr>\n",
       "    <tr>\n",
       "      <th>4</th>\n",
       "      <td>Aaram</td>\n",
       "      <td>16</td>\n",
       "      <td>Bangalore</td>\n",
       "      <td>5000</td>\n",
       "      <td>75</td>\n",
       "    </tr>\n",
       "    <tr>\n",
       "      <th>6</th>\n",
       "      <td>Gharam</td>\n",
       "      <td>15</td>\n",
       "      <td>Pune</td>\n",
       "      <td>7000</td>\n",
       "      <td>90</td>\n",
       "    </tr>\n",
       "    <tr>\n",
       "      <th>2</th>\n",
       "      <td>Ghansyam</td>\n",
       "      <td>14</td>\n",
       "      <td>Kolkata</td>\n",
       "      <td>3000</td>\n",
       "      <td>95</td>\n",
       "    </tr>\n",
       "    <tr>\n",
       "      <th>1</th>\n",
       "      <td>Shayam</td>\n",
       "      <td>13</td>\n",
       "      <td>Mumbai</td>\n",
       "      <td>2000</td>\n",
       "      <td>85</td>\n",
       "    </tr>\n",
       "    <tr>\n",
       "      <th>0</th>\n",
       "      <td>Ram</td>\n",
       "      <td>12</td>\n",
       "      <td>Delhi</td>\n",
       "      <td>1000</td>\n",
       "      <td>56</td>\n",
       "    </tr>\n",
       "    <tr>\n",
       "      <th>5</th>\n",
       "      <td>Sharam</td>\n",
       "      <td>11</td>\n",
       "      <td>Hyderabad</td>\n",
       "      <td>6000</td>\n",
       "      <td>88</td>\n",
       "    </tr>\n",
       "  </tbody>\n",
       "</table>\n",
       "</div>"
      ],
      "text/plain": [
       "       Name  Age       City  Salary  Performance Score\n",
       "3       Kam   20      Noida    4000                 62\n",
       "4     Aaram   16  Bangalore    5000                 75\n",
       "6    Gharam   15       Pune    7000                 90\n",
       "2  Ghansyam   14    Kolkata    3000                 95\n",
       "1    Shayam   13     Mumbai    2000                 85\n",
       "0       Ram   12      Delhi    1000                 56\n",
       "5    Sharam   11  Hyderabad    6000                 88"
      ]
     },
     "execution_count": 5,
     "metadata": {},
     "output_type": "execute_result"
    }
   ],
   "source": [
    "df.sort_values(by='Age', ascending=False, inplace=True)\n",
    "df"
   ]
  },
  {
   "cell_type": "code",
   "execution_count": 6,
   "id": "07b786a6",
   "metadata": {},
   "outputs": [
    {
     "data": {
      "text/html": [
       "<div>\n",
       "<style scoped>\n",
       "    .dataframe tbody tr th:only-of-type {\n",
       "        vertical-align: middle;\n",
       "    }\n",
       "\n",
       "    .dataframe tbody tr th {\n",
       "        vertical-align: top;\n",
       "    }\n",
       "\n",
       "    .dataframe thead th {\n",
       "        text-align: right;\n",
       "    }\n",
       "</style>\n",
       "<table border=\"1\" class=\"dataframe\">\n",
       "  <thead>\n",
       "    <tr style=\"text-align: right;\">\n",
       "      <th></th>\n",
       "      <th>Name</th>\n",
       "      <th>Age</th>\n",
       "      <th>City</th>\n",
       "      <th>Salary</th>\n",
       "      <th>Performance Score</th>\n",
       "    </tr>\n",
       "  </thead>\n",
       "  <tbody>\n",
       "    <tr>\n",
       "      <th>5</th>\n",
       "      <td>Sharam</td>\n",
       "      <td>11</td>\n",
       "      <td>Hyderabad</td>\n",
       "      <td>6000</td>\n",
       "      <td>88</td>\n",
       "    </tr>\n",
       "    <tr>\n",
       "      <th>0</th>\n",
       "      <td>Ram</td>\n",
       "      <td>12</td>\n",
       "      <td>Delhi</td>\n",
       "      <td>1000</td>\n",
       "      <td>56</td>\n",
       "    </tr>\n",
       "    <tr>\n",
       "      <th>1</th>\n",
       "      <td>Shayam</td>\n",
       "      <td>13</td>\n",
       "      <td>Mumbai</td>\n",
       "      <td>2000</td>\n",
       "      <td>85</td>\n",
       "    </tr>\n",
       "    <tr>\n",
       "      <th>2</th>\n",
       "      <td>Ghansyam</td>\n",
       "      <td>14</td>\n",
       "      <td>Kolkata</td>\n",
       "      <td>3000</td>\n",
       "      <td>95</td>\n",
       "    </tr>\n",
       "    <tr>\n",
       "      <th>6</th>\n",
       "      <td>Gharam</td>\n",
       "      <td>15</td>\n",
       "      <td>Pune</td>\n",
       "      <td>7000</td>\n",
       "      <td>90</td>\n",
       "    </tr>\n",
       "    <tr>\n",
       "      <th>4</th>\n",
       "      <td>Aaram</td>\n",
       "      <td>16</td>\n",
       "      <td>Bangalore</td>\n",
       "      <td>5000</td>\n",
       "      <td>75</td>\n",
       "    </tr>\n",
       "    <tr>\n",
       "      <th>3</th>\n",
       "      <td>Kam</td>\n",
       "      <td>20</td>\n",
       "      <td>Noida</td>\n",
       "      <td>4000</td>\n",
       "      <td>62</td>\n",
       "    </tr>\n",
       "  </tbody>\n",
       "</table>\n",
       "</div>"
      ],
      "text/plain": [
       "       Name  Age       City  Salary  Performance Score\n",
       "5    Sharam   11  Hyderabad    6000                 88\n",
       "0       Ram   12      Delhi    1000                 56\n",
       "1    Shayam   13     Mumbai    2000                 85\n",
       "2  Ghansyam   14    Kolkata    3000                 95\n",
       "6    Gharam   15       Pune    7000                 90\n",
       "4     Aaram   16  Bangalore    5000                 75\n",
       "3       Kam   20      Noida    4000                 62"
      ]
     },
     "execution_count": 6,
     "metadata": {},
     "output_type": "execute_result"
    }
   ],
   "source": [
    "df.sort_values(by='Age', ascending=True, inplace=True)\n",
    "df"
   ]
  }
 ],
 "metadata": {
  "kernelspec": {
   "display_name": "env",
   "language": "python",
   "name": "python3"
  },
  "language_info": {
   "codemirror_mode": {
    "name": "ipython",
    "version": 3
   },
   "file_extension": ".py",
   "mimetype": "text/x-python",
   "name": "python",
   "nbconvert_exporter": "python",
   "pygments_lexer": "ipython3",
   "version": "3.12.6"
  }
 },
 "nbformat": 4,
 "nbformat_minor": 5
}
