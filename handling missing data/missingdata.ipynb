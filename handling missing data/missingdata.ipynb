{
 "cells": [
  {
   "cell_type": "markdown",
   "id": "35c37367",
   "metadata": {},
   "source": [
    "# Handling Missing Data in Pandas"
   ]
  },
  {
   "cell_type": "markdown",
   "id": "34a8da81",
   "metadata": {},
   "source": [
    "### Two types\n",
    "-   NaN (Not a Number)\n",
    "-   None (for oject data types)\n",
    "-   Pandas basically treat missing data as NaN.\n",
    "\n",
    "-   isnull() -> used to check if a value is null or not.\n",
    "-   True -> NaN is missing.\n",
    "-   False -> value is present."
   ]
  },
  {
   "cell_type": "code",
   "execution_count": 1,
   "id": "d7932f2c",
   "metadata": {},
   "outputs": [],
   "source": [
    "import pandas as pd"
   ]
  },
  {
   "cell_type": "code",
   "execution_count": 2,
   "id": "b2e1e70e",
   "metadata": {},
   "outputs": [
    {
     "name": "stdout",
     "output_type": "stream",
     "text": [
      "       Name  Age       City  Salary  Performance Score\n",
      "0       Ram   12      Delhi  1000.0                 56\n",
      "1      None   13     Mumbai  2000.0                 85\n",
      "2  Ghansyam   14    Kolkata  3000.0                 95\n",
      "3       Kam   15       None     NaN                 62\n",
      "4     Aaram   16  Bangalore  5000.0                 75\n",
      "5    Sharam   17  Hyderabad     NaN                 88\n",
      "6    Gharam   18       Pune  7000.0                 90\n"
     ]
    }
   ],
   "source": [
    "data = {\n",
    "    \"Name\": [\"Ram\", None, \"Ghansyam\", \"Kam\", \"Aaram\", \"Sharam\", \"Gharam\"],\n",
    "    \"Age\": [12, 13, 14, 15, 16, 17, 18],\n",
    "    \"City\": [\"Delhi\", \"Mumbai\", \"Kolkata\", None, \"Bangalore\", \"Hyderabad\", \"Pune\"],\n",
    "    \"Salary\": [1000, 2000, 3000, None, 5000, None, 7000],\n",
    "    \"Performance Score\": [56, 85, 95, 62, 75, 88, 90],\n",
    "}\n",
    "\n",
    "df = pd.DataFrame(data)\n",
    "print(df)"
   ]
  },
  {
   "cell_type": "markdown",
   "id": "d5cf299d",
   "metadata": {},
   "source": [
    "-   To find at which place data is missing"
   ]
  },
  {
   "cell_type": "code",
   "execution_count": 3,
   "id": "8a2de56c",
   "metadata": {},
   "outputs": [
    {
     "data": {
      "text/html": [
       "<div>\n",
       "<style scoped>\n",
       "    .dataframe tbody tr th:only-of-type {\n",
       "        vertical-align: middle;\n",
       "    }\n",
       "\n",
       "    .dataframe tbody tr th {\n",
       "        vertical-align: top;\n",
       "    }\n",
       "\n",
       "    .dataframe thead th {\n",
       "        text-align: right;\n",
       "    }\n",
       "</style>\n",
       "<table border=\"1\" class=\"dataframe\">\n",
       "  <thead>\n",
       "    <tr style=\"text-align: right;\">\n",
       "      <th></th>\n",
       "      <th>Name</th>\n",
       "      <th>Age</th>\n",
       "      <th>City</th>\n",
       "      <th>Salary</th>\n",
       "      <th>Performance Score</th>\n",
       "    </tr>\n",
       "  </thead>\n",
       "  <tbody>\n",
       "    <tr>\n",
       "      <th>0</th>\n",
       "      <td>False</td>\n",
       "      <td>False</td>\n",
       "      <td>False</td>\n",
       "      <td>False</td>\n",
       "      <td>False</td>\n",
       "    </tr>\n",
       "    <tr>\n",
       "      <th>1</th>\n",
       "      <td>True</td>\n",
       "      <td>False</td>\n",
       "      <td>False</td>\n",
       "      <td>False</td>\n",
       "      <td>False</td>\n",
       "    </tr>\n",
       "    <tr>\n",
       "      <th>2</th>\n",
       "      <td>False</td>\n",
       "      <td>False</td>\n",
       "      <td>False</td>\n",
       "      <td>False</td>\n",
       "      <td>False</td>\n",
       "    </tr>\n",
       "    <tr>\n",
       "      <th>3</th>\n",
       "      <td>False</td>\n",
       "      <td>False</td>\n",
       "      <td>True</td>\n",
       "      <td>True</td>\n",
       "      <td>False</td>\n",
       "    </tr>\n",
       "    <tr>\n",
       "      <th>4</th>\n",
       "      <td>False</td>\n",
       "      <td>False</td>\n",
       "      <td>False</td>\n",
       "      <td>False</td>\n",
       "      <td>False</td>\n",
       "    </tr>\n",
       "    <tr>\n",
       "      <th>5</th>\n",
       "      <td>False</td>\n",
       "      <td>False</td>\n",
       "      <td>False</td>\n",
       "      <td>True</td>\n",
       "      <td>False</td>\n",
       "    </tr>\n",
       "    <tr>\n",
       "      <th>6</th>\n",
       "      <td>False</td>\n",
       "      <td>False</td>\n",
       "      <td>False</td>\n",
       "      <td>False</td>\n",
       "      <td>False</td>\n",
       "    </tr>\n",
       "  </tbody>\n",
       "</table>\n",
       "</div>"
      ],
      "text/plain": [
       "    Name    Age   City  Salary  Performance Score\n",
       "0  False  False  False   False              False\n",
       "1   True  False  False   False              False\n",
       "2  False  False  False   False              False\n",
       "3  False  False   True    True              False\n",
       "4  False  False  False   False              False\n",
       "5  False  False  False    True              False\n",
       "6  False  False  False   False              False"
      ]
     },
     "execution_count": 3,
     "metadata": {},
     "output_type": "execute_result"
    }
   ],
   "source": [
    "df.isnull()"
   ]
  },
  {
   "cell_type": "markdown",
   "id": "f84da068",
   "metadata": {},
   "source": [
    "-   To find in which row how many values are missing"
   ]
  },
  {
   "cell_type": "code",
   "execution_count": 4,
   "id": "6b4d41a3",
   "metadata": {},
   "outputs": [
    {
     "data": {
      "text/plain": [
       "Name                 1\n",
       "Age                  0\n",
       "City                 1\n",
       "Salary               2\n",
       "Performance Score    0\n",
       "dtype: int64"
      ]
     },
     "execution_count": 4,
     "metadata": {},
     "output_type": "execute_result"
    }
   ],
   "source": [
    "df.isnull().sum()"
   ]
  }
 ],
 "metadata": {
  "kernelspec": {
   "display_name": "env",
   "language": "python",
   "name": "python3"
  },
  "language_info": {
   "codemirror_mode": {
    "name": "ipython",
    "version": 3
   },
   "file_extension": ".py",
   "mimetype": "text/x-python",
   "name": "python",
   "nbconvert_exporter": "python",
   "pygments_lexer": "ipython3",
   "version": "3.12.6"
  }
 },
 "nbformat": 4,
 "nbformat_minor": 5
}
